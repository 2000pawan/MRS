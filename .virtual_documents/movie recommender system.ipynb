import numpy as np
import pandas as pd


movies = pd.read_csv('tmdb_5000_movies.csv')
credits = pd.read_csv('tmdb_5000_credits.csv')


movies.shape


credits.shape


movies = movies.merge(credits, on='title')


movies.shape


movies.head(1)


# We keep this column from dataset
# genres
# id
# keywords
# title
# overview
# cast
# crew


movies = movies[['movie_id','title','overview','genres','keywords','cast','crew']]


movies.head(1)


import ast


def convert(text):
    L = []
    for i in ast.literal_eval(text):
        L.append(i['name'])
    return L


movies.dropna(inplace=True)


movies.isnull().sum()


movies['genres'] =movies['genres'].apply(convert)
movies.head()


movies['keywords'] =movies['keywords'].apply(convert)


movies.head()


import ast
ast.literal_eval('[{"id": 28, "name": "Action"}, {"id": 12, "name": "Adventure"}, {"id": 14, "name": "Fantasy"}, {"id": 878, "name": "Science Fiction"}]')


def convert2(text):
    L = []
    counter = 0
    for i in ast.literal_eval(text):
        if counter < 3:
            L.append(i['name'])
            counter+=1
        else:
            break
    return L


movies['cast'] = movies['cast'].apply(convert)


movies.head()


movies['cast'] = movies['cast'].apply(lambda x:x[0:3])


movies.head(2)


def fetch_director(text):
    L =[]
    for i in ast.literal_eval(text):
        if i ['job'] == 'Director':
            L.append(i['name'])
            break
    return L


movies['crew'] = movies['crew'].apply(fetch_director)


movies.head(5)


def collapse(L):
    L1 = []
    for i in L:
        L1.append(i.replace(" ",""))
    return L1


movies['cast'] = movies['cast'].apply(collapse)
movies['crew'] = movies['crew'].apply(collapse)
movies['genres'] = movies['genres'].apply(collapse)
movies['keywords'] = movies['keywords'].apply(collapse)


movies.head()


movies['overview'] = movies['overview'].apply(lambda x:x.split())


movies['tags'] = movies['overview'] + movies['genres'] + movies['keywords'] + movies['cast'] + movies['crew']


new = movies.drop(columns=['overview','genres','keywords','cast','crew'])


new['tags'] = new['tags'].apply(lambda x: " ".join(x))


new.head()


from nltk.stem.porter import PorterStemmer
ps = PorterStemmer()


def stem(text):
    y = []

    for i in text.split():
        y.append(ps.stem(i))
    return " ".join(y)



new['tags'] =new['tags'].apply(stem)


new['tags'][0]


new['tags'] = new['tags'].apply(lambda x:x.lower())


new.head()


from sklearn.feature_extraction.text import CountVectorizer
cv = CountVectorizer(max_features=5000,stop_words='english')


vector = cv.fit_transform(new['tags']).toarray()


vector.shape


ps.stem('dancing')


stem('in the 22nd century, a paraplegic marine is dispatched to the moon pandora on a unique mission, but becomes torn between following orders and protecting an alien civilization. action adventure fantasy sciencefiction cultureclash future spacewar spacecolony society spacetravel futuristic romance space alien tribe alienplanet cgi marine soldier battle loveaffair antiwar powerrelations mindandsoul 3d samworthington zoesaldana sigourneyweaver jamescameron')


from sklearn.metrics.pairwise import cosine_similarity


similarity = cosine_similarity(vector)


similarity.shape


new[new['title'] == 'Batman'].index[0]


def recommend(movie):
    index = new[new['title'] == movie].index[0]
    distances = sorted(list(enumerate(similarity[index])), reverse=True, key= lambda x:x[1])
    for i in distances[1:6]:
        print(new.iloc[i[0]].title)


recommend('Batman Begins')


import bz2file as bz2
import pickle 


pickle.dump(new.to_dict(),open('movie_dict.pkl','wb'))
def compressed_pickle(title,data):
    with bz2.BZ2File(title+'.pbz2','w')as f:
        pickle.dump(data,f)
compressed_pickle('similarity.pkl',similarity)



